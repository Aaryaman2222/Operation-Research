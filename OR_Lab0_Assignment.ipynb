{
 "cells": [
  {
   "cell_type": "markdown",
   "id": "f1381426",
   "metadata": {},
   "source": [
    "# Operation Research Lab 0 Assignment\n",
    "\n",
    "---\n",
    "\n",
    "## Student Information\n",
    "**Name:** Aaryaman Bista  \n",
    "**Class:** Operation Research  \n",
    "**Assignment:** Lab 0  \n"
   ]
  },
  {
   "cell_type": "markdown",
   "id": "789f664d",
   "metadata": {},
   "source": [
    "## My Favorite Function\n",
    "\n",
    "My favorite Python function is **`len()`** because it's incredibly versatile and fundamental to working with data structures in Python. \n",
    "\n",
    "### Why I love `len()`:\n",
    "- **Universal**: Works with strings, lists, tuples, dictionaries, and sets\n",
    "- **Simple**: Easy to understand and remember\n",
    "- **Essential**: Used constantly in data analysis and programming\n",
    "- **Reliable**: Always returns exactly what you expect - the number of items\n",
    "\n",
    "Whether you're checking if a list is empty, iterating through data, or validating input sizes, `len()` is your reliable companion!\n"
   ]
  },
  {
   "cell_type": "markdown",
   "id": "2ab451df",
   "metadata": {},
   "source": [
    "## Function Definition and Examples\n",
    "\n"
   ]
  },
  {
   "cell_type": "code",
   "execution_count": 2,
   "id": "0564966c",
   "metadata": {},
   "outputs": [],
   "source": [
    "\n",
    "def analyze_length(data):\n",
    "    \"\"\"\n",
    "    Analyzes the length of various data structures and provides insights.\n",
    "    \n",
    "    Parameters:\n",
    "    data: any Python object that supports len()\n",
    "    \n",
    "    Returns:\n",
    "    dictionary with length analysis\n",
    "    \"\"\"\n",
    "    length = len(data)\n",
    "    data_type = type(data).__name__\n",
    "    \n",
    "    # Provide different insights based on length\n",
    "    if length == 0:\n",
    "        insight = \"Empty - ready to be filled!\"\n",
    "    elif length < 5:\n",
    "        insight = \"Small and manageable\"\n",
    "    elif length < 20:\n",
    "        insight = \"Medium-sized collection\"\n",
    "    else:\n",
    "        insight = \"Large dataset - lots to explore!\"\n",
    "    \n",
    "    return {\n",
    "        'length': length,\n",
    "        'type': data_type,\n",
    "        'insight': insight,\n",
    "        'is_even': length % 2 == 0\n",
    "    }"
   ]
  },
  {
   "cell_type": "markdown",
   "id": "4cc352ca",
   "metadata": {},
   "source": [
    "# Testing the function with interesting values\n"
   ]
  },
  {
   "cell_type": "code",
   "execution_count": 4,
   "id": "f62d015c",
   "metadata": {},
   "outputs": [
    {
     "name": "stdout",
     "output_type": "stream",
     "text": [
      "Function Analysis Results:\n",
      "========================================\n",
      "\n",
      "Test 1: Hello, Python!\n",
      "  Length: 14\n",
      "  Type: str\n",
      "  Insight: Medium-sized collection\n",
      "  Even length: True\n",
      "\n",
      "Test 2: [1, 2, 3, 4, 5]\n",
      "  Length: 5\n",
      "  Type: list\n",
      "  Insight: Medium-sized collection\n",
      "  Even length: False\n",
      "\n",
      "Test 3: {'name': 'Claude', 'type': 'AI...\n",
      "  Length: 3\n",
      "  Type: dict\n",
      "  Insight: Small and manageable\n",
      "  Even length: False\n",
      "\n",
      "Test 4: [0, 1, 2, 3, 4, 5, 6, 7, 8, 9,...\n",
      "  Length: 25\n",
      "  Type: list\n",
      "  Insight: Large dataset - lots to explore!\n",
      "  Even length: False\n",
      "\n",
      "Test 5: \n",
      "  Length: 0\n",
      "  Type: str\n",
      "  Insight: Empty - ready to be filled!\n",
      "  Even length: True\n"
     ]
    }
   ],
   "source": [
    "test_cases = [\n",
    "    \"Hello, Python!\",\n",
    "    [1, 2, 3, 4, 5],\n",
    "    {'name': 'Claude', 'type': 'AI', 'helpful': True},\n",
    "    list(range(25)),\n",
    "    \"\"\n",
    "]\n",
    "\n",
    "print(\"Function Analysis Results:\")\n",
    "print(\"=\" * 40)\n",
    "\n",
    "for i, test_case in enumerate(test_cases, 1):\n",
    "    result = analyze_length(test_case)\n",
    "    print(f\"\\nTest {i}: {str(test_case)[:30]}{'...' if len(str(test_case)) > 30 else ''}\")\n",
    "    print(f\"  Length: {result['length']}\")\n",
    "    print(f\"  Type: {result['type']}\")\n",
    "    print(f\"  Insight: {result['insight']}\")\n",
    "    print(f\"  Even length: {result['is_even']}\")"
   ]
  },
  {
   "cell_type": "markdown",
   "id": "af86ad9a",
   "metadata": {},
   "source": [
    "## Creative List Generation\n",
    "\n",
    "I created my list using a fun mathematical approach - generating numbers based on interesting mathematical sequences and patterns!\n",
    "\n",
    "### My Process:\n",
    "I combined several mathematical concepts:\n",
    "1. **Fibonacci-inspired**: Started with 1, 1, then each subsequent number follows a modified pattern\n",
    "2. **Prime influence**: Added some prime numbers to make it interesting\n",
    "3. **Personal touch**: Included numbers that have special meaning in mathematics and computer science\n",
    "4. **Random elements**: Added a few numbers that just \"felt right\" for variety\n",
    "\n",
    "The result is a list that tells a story through numbers - from simple beginnings to complex mathematical beauty!\n"
   ]
  },
  {
   "cell_type": "markdown",
   "id": "a2dc00a5",
   "metadata": {},
   "source": [
    "\n",
    "# My creatively generated list of 12 values\n"
   ]
  },
  {
   "cell_type": "code",
   "execution_count": 6,
   "id": "84251d64",
   "metadata": {},
   "outputs": [],
   "source": [
    "my_special_numbers = [1, 1, 2, 3, 5, 8, 13, 21, 42, 73, 100, 256]"
   ]
  },
  {
   "cell_type": "code",
   "execution_count": 8,
   "id": "5f8e1136",
   "metadata": {},
   "outputs": [
    {
     "name": "stdout",
     "output_type": "stream",
     "text": [
      " My Special Numbers List:\n",
      "Numbers: [1, 1, 2, 3, 5, 8, 13, 21, 42, 73, 100, 256]\n",
      "Total count: 12 values\n",
      "\n",
      "==================================================\n",
      "STATISTICAL ANALYSIS\n",
      "==================================================\n"
     ]
    }
   ],
   "source": [
    "print(\" My Special Numbers List:\")\n",
    "print(f\"Numbers: {my_special_numbers}\")\n",
    "print(f\"Total count: {len(my_special_numbers)} values\")\n",
    "\n",
    "print(\"\\n\" + \"=\"*50)\n",
    "print(\"STATISTICAL ANALYSIS\")\n",
    "print(\"=\"*50)"
   ]
  },
  {
   "cell_type": "code",
   "execution_count": 9,
   "id": "e2e17a7d",
   "metadata": {},
   "outputs": [],
   "source": [
    "list_sum = sum(my_special_numbers)\n",
    "list_min = min(my_special_numbers)\n",
    "list_max = max(my_special_numbers)\n"
   ]
  },
  {
   "cell_type": "code",
   "execution_count": 13,
   "id": "e817a406",
   "metadata": {},
   "outputs": [
    {
     "name": "stdout",
     "output_type": "stream",
     "text": [
      "Sum of all numbers: 525\n",
      "Minimum value: 1\n",
      "Maximum value: 256\n",
      "Average (mean): 43.75\n",
      "\n",
      "==================================================\n",
      "BONUS INSIGHTS\n",
      "==================================================\n",
      "Range (max - min): 255\n",
      " Median value: 13\n",
      " Even numbers in list: 5\n",
      " Odd numbers in list: 7\n"
     ]
    }
   ],
   "source": [
    "list_average = sum(my_special_numbers) / len(my_special_numbers)\n",
    "\n",
    "print(f\"Sum of all numbers: {list_sum}\")\n",
    "print(f\"Minimum value: {list_min}\")\n",
    "print(f\"Maximum value: {list_max}\")\n",
    "print(f\"Average (mean): {list_average:.2f}\")\n",
    "\n",
    "print(\"\\n\" + \"=\"*50)\n",
    "print(\"BONUS INSIGHTS\")\n",
    "print(\"=\"*50)\n",
    "range_value = list_max - list_min\n",
    "median_position = len(my_special_numbers) // 2\n",
    "median_value = sorted(my_special_numbers)[median_position]\n",
    "print(f\"Range (max - min): {range_value}\")\n",
    "print(f\" Median value: {median_value}\")\n",
    "print(f\" Even numbers in list: {len([n for n in my_special_numbers if n % 2 == 0])}\")\n",
    "print(f\" Odd numbers in list: {len([n for n in my_special_numbers if n % 2 == 1])}\")"
   ]
  },
  {
   "cell_type": "markdown",
   "id": "19509341",
   "metadata": {},
   "source": [
    "# Fun mathematical observation"
   ]
  },
  {
   "cell_type": "code",
   "execution_count": 16,
   "id": "dc190a65",
   "metadata": {},
   "outputs": [
    {
     "name": "stdout",
     "output_type": "stream",
     "text": [
      "Fibonacci numbers in my list: [1, 1, 2, 3, 5, 8, 13, 21]\n",
      "Percentage of list that's Fibonacci: 66.7%\n"
     ]
    }
   ],
   "source": [
    "fibonacci_sequence = [1, 1, 2, 3, 5, 8, 13, 21]\n",
    "fibonacci_in_my_list = [n for n in my_special_numbers if n in fibonacci_sequence]\n",
    "print(f\"Fibonacci numbers in my list: {fibonacci_in_my_list}\")\n",
    "print(f\"Percentage of list that's Fibonacci: {len(fibonacci_in_my_list)/len(my_special_numbers)*100:.1f}%\")\n"
   ]
  }
 ],
 "metadata": {
  "kernelspec": {
   "display_name": "base",
   "language": "python",
   "name": "python3"
  },
  "language_info": {
   "codemirror_mode": {
    "name": "ipython",
    "version": 3
   },
   "file_extension": ".py",
   "mimetype": "text/x-python",
   "name": "python",
   "nbconvert_exporter": "python",
   "pygments_lexer": "ipython3",
   "version": "3.12.7"
  }
 },
 "nbformat": 4,
 "nbformat_minor": 5
}
