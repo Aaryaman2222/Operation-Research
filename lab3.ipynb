{
 "cells": [
  {
   "cell_type": "code",
   "execution_count": 3,
   "id": "7c1a427e",
   "metadata": {},
   "outputs": [],
   "source": [
    "import pandas as pd\n",
    "import numpy as np\n",
    "import matplotlib.pyplot as plt\n",
    "from sklearn.linear_model import LinearRegression\n",
    "from sklearn.metrics import r2_score\n",
    "\n"
   ]
  },
  {
   "cell_type": "code",
   "execution_count": null,
   "id": "164bdecb",
   "metadata": {},
   "outputs": [
    {
     "data": {
      "application/vnd.microsoft.datawrangler.viewer.v0+json": {
       "columns": [
        {
         "name": "index",
         "rawType": "int64",
         "type": "integer"
        },
        {
         "name": "Time",
         "rawType": "float64",
         "type": "float"
        },
        {
         "name": "Athlete",
         "rawType": "object",
         "type": "string"
        },
        {
         "name": "Nation",
         "rawType": "object",
         "type": "string"
        },
        {
         "name": "Games",
         "rawType": "int64",
         "type": "integer"
        },
        {
         "name": "Round",
         "rawType": "object",
         "type": "string"
        },
        {
         "name": "Date",
         "rawType": "object",
         "type": "string"
        },
        {
         "name": "Gender",
         "rawType": "object",
         "type": "string"
        }
       ],
       "ref": "67d3192b-90b8-4c21-85be-ddcdd4217e89",
       "rows": [
        [
         "0",
         "12.2",
         "Francis Lane",
         "United States (USA)",
         "1896",
         "Heat 1",
         "1896-04-06",
         "Men"
        ],
        [
         "1",
         "12.2",
         "Thomas Curtis",
         "United States (USA)",
         "1896",
         "Heat 2",
         "1896-04-06",
         "Men"
        ],
        [
         "2",
         "11.8",
         "Tom Burke",
         "United States (USA)",
         "1896",
         "Heat 3",
         "1896-04-06",
         "Men"
        ],
        [
         "3",
         "11.4",
         "Arthur Duffey",
         "United States (USA)",
         "1900",
         "Heat 1",
         "6/14/1900",
         "Men"
        ],
        [
         "4",
         "11.4",
         "Walter Tewksbury",
         "United States (USA)",
         "1900",
         "Heat 2",
         "6/14/1900",
         "Men"
        ]
       ],
       "shape": {
        "columns": 7,
        "rows": 5
       }
      },
      "text/html": [
       "<div>\n",
       "<style scoped>\n",
       "    .dataframe tbody tr th:only-of-type {\n",
       "        vertical-align: middle;\n",
       "    }\n",
       "\n",
       "    .dataframe tbody tr th {\n",
       "        vertical-align: top;\n",
       "    }\n",
       "\n",
       "    .dataframe thead th {\n",
       "        text-align: right;\n",
       "    }\n",
       "</style>\n",
       "<table border=\"1\" class=\"dataframe\">\n",
       "  <thead>\n",
       "    <tr style=\"text-align: right;\">\n",
       "      <th></th>\n",
       "      <th>Time</th>\n",
       "      <th>Athlete</th>\n",
       "      <th>Nation</th>\n",
       "      <th>Games</th>\n",
       "      <th>Round</th>\n",
       "      <th>Date</th>\n",
       "      <th>Gender</th>\n",
       "    </tr>\n",
       "  </thead>\n",
       "  <tbody>\n",
       "    <tr>\n",
       "      <th>0</th>\n",
       "      <td>12.2</td>\n",
       "      <td>Francis Lane</td>\n",
       "      <td>United States (USA)</td>\n",
       "      <td>1896</td>\n",
       "      <td>Heat 1</td>\n",
       "      <td>1896-04-06</td>\n",
       "      <td>Men</td>\n",
       "    </tr>\n",
       "    <tr>\n",
       "      <th>1</th>\n",
       "      <td>12.2</td>\n",
       "      <td>Thomas Curtis</td>\n",
       "      <td>United States (USA)</td>\n",
       "      <td>1896</td>\n",
       "      <td>Heat 2</td>\n",
       "      <td>1896-04-06</td>\n",
       "      <td>Men</td>\n",
       "    </tr>\n",
       "    <tr>\n",
       "      <th>2</th>\n",
       "      <td>11.8</td>\n",
       "      <td>Tom Burke</td>\n",
       "      <td>United States (USA)</td>\n",
       "      <td>1896</td>\n",
       "      <td>Heat 3</td>\n",
       "      <td>1896-04-06</td>\n",
       "      <td>Men</td>\n",
       "    </tr>\n",
       "    <tr>\n",
       "      <th>3</th>\n",
       "      <td>11.4</td>\n",
       "      <td>Arthur Duffey</td>\n",
       "      <td>United States (USA)</td>\n",
       "      <td>1900</td>\n",
       "      <td>Heat 1</td>\n",
       "      <td>6/14/1900</td>\n",
       "      <td>Men</td>\n",
       "    </tr>\n",
       "    <tr>\n",
       "      <th>4</th>\n",
       "      <td>11.4</td>\n",
       "      <td>Walter Tewksbury</td>\n",
       "      <td>United States (USA)</td>\n",
       "      <td>1900</td>\n",
       "      <td>Heat 2</td>\n",
       "      <td>6/14/1900</td>\n",
       "      <td>Men</td>\n",
       "    </tr>\n",
       "  </tbody>\n",
       "</table>\n",
       "</div>"
      ],
      "text/plain": [
       "   Time           Athlete               Nation  Games   Round        Date  \\\n",
       "0  12.2      Francis Lane  United States (USA)   1896  Heat 1  1896-04-06   \n",
       "1  12.2     Thomas Curtis  United States (USA)   1896  Heat 2  1896-04-06   \n",
       "2  11.8         Tom Burke  United States (USA)   1896  Heat 3  1896-04-06   \n",
       "3  11.4     Arthur Duffey  United States (USA)   1900  Heat 1   6/14/1900   \n",
       "4  11.4  Walter Tewksbury  United States (USA)   1900  Heat 2   6/14/1900   \n",
       "\n",
       "  Gender  \n",
       "0    Men  \n",
       "1    Men  \n",
       "2    Men  \n",
       "3    Men  \n",
       "4    Men  "
      ]
     },
     "execution_count": 4,
     "metadata": {},
     "output_type": "execute_result"
    }
   ],
   "source": [
    "df = pd.read_csv('https://raw.githubusercontent.com/nurfnick/Data_Sets_For_Stats/master/CuratedDataSets/100mOlympicRecords.csv')\n",
    "df.head()"
   ]
  },
  {
   "cell_type": "code",
   "execution_count": null,
   "id": "6cf72e99",
   "metadata": {},
   "outputs": [],
   "source": [
    "df = df.dropna(subset=['Time'])\n",
    "df['Games'] = pd.to_numeric(df['Games'])\n",
    "df['Time'] = pd.to_numeric(df['Time'])\n"
   ]
  },
  {
   "cell_type": "code",
   "execution_count": null,
   "id": "c6b090f8",
   "metadata": {},
   "outputs": [],
   "source": [
    "X = df['Games'].values.reshape(-1, 1)\n",
    "y = df['Time'].values\n"
   ]
  },
  {
   "cell_type": "code",
   "execution_count": null,
   "id": "9fb451f2",
   "metadata": {},
   "outputs": [
    {
     "name": "stdout",
     "output_type": "stream",
     "text": [
      "Linear Model: Time = -0.012578 * Year + 35.58\n",
      "R² = 0.1860\n"
     ]
    }
   ],
   "source": [
    "model = LinearRegression()\n",
    "model.fit(X, y)\n",
    "\n",
    "# Get predictions\n",
    "y_pred = model.predict(X)\n",
    "r2 = r2_score(y, y_pred)\n",
    "\n",
    "print(f\"Linear Model: Time = {model.coef_[0]:.6f} * Year + {model.intercept_:.2f}\")\n",
    "print(f\"R² = {r2:.4f}\")\n"
   ]
  },
  {
   "cell_type": "code",
   "execution_count": null,
   "id": "dbacbe64",
   "metadata": {},
   "outputs": [
    {
     "name": "stdout",
     "output_type": "stream",
     "text": [
      "\n",
      "Predictions:\n",
      "2024: 10.126 seconds\n",
      "2300: 6.654 seconds\n"
     ]
    }
   ],
   "source": [
    "pred_2024 = model.predict([[2024]])[0]\n",
    "pred_2300 = model.predict([[2300]])[0]\n",
    "\n",
    "print(f\"\\nPredictions:\")\n",
    "print(f\"2024: {pred_2024:.3f} seconds\")\n",
    "print(f\"2300: {pred_2300:.3f} seconds\")"
   ]
  },
  {
   "cell_type": "code",
   "execution_count": null,
   "id": "9bbf84f2",
   "metadata": {},
   "outputs": [
    {
     "data": {
      "image/png": "[encoded data removed]",
      "text/plain": [
       "<Figure size 1000x600 with 1 Axes>"
      ]
     },
     "metadata": {},
     "output_type": "display_data"
    },
    {
     "name": "stdout",
     "output_type": "stream",
     "text": [
      "\n",
      "Model Validity:\n",
      "2024 prediction: Reasonable (close extrapolation)\n",
      "2300 prediction: Highly questionable (extreme extrapolation)\n"
     ]
    }
   ],
   "source": [
    "plt.figure(figsize=(10, 6))\n",
    "plt.scatter(df['Games'], df['Time'], alpha=0.7, label='Actual Records')\n",
    "plt.plot(df['Games'], y_pred, 'r--', label=f'Linear Fit (R²={r2:.3f})')\n",
    "plt.scatter([2024, 2300], [pred_2024, pred_2300], color='red', s=100, label='Predictions')\n",
    "plt.xlabel('Year')\n",
    "plt.ylabel('Time (seconds)')\n",
    "plt.title('Olympic 100m Records with Linear Regression')\n",
    "plt.legend()\n",
    "plt.grid(True, alpha=0.3)\n",
    "plt.show()\n",
    "\n",
    "print(f\"\\nModel Validity:\")\n",
    "print(f\"2024 prediction: Reasonable (close extrapolation)\")\n",
    "print(f\"2300 prediction: Highly questionable (extreme extrapolation)\")\n",
    "if pred_2300 < 0:\n",
    "    print(\"WARNING: 2300 prediction is negative - physically impossible!\")"
   ]
  },
  {
   "cell_type": "code",
   "execution_count": null,
   "id": "5693ec7e",
   "metadata": {},
   "outputs": [],
   "source": []
  }
 ],
 "metadata": {
  "kernelspec": {
   "display_name": "base",
   "language": "python",
   "name": "python3"
  },
  "language_info": {
   "codemirror_mode": {
    "name": "ipython",
    "version": 3
   },
   "file_extension": ".py",
   "mimetype": "text/x-python",
   "name": "python",
   "nbconvert_exporter": "python",
   "pygments_lexer": "ipython3",
   "version": "3.12.7"
  }
 },
 "nbformat": 4,
 "nbformat_minor": 5
}
