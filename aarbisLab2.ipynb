{
 "cells": [
  {
   "cell_type": "markdown",
   "id": "5684e06c",
   "metadata": {},
   "source": [
    "# Handshakes\n",
    " Two soccer teams have just finished their game. The two teams of 11 all shake hands and the winning team also shakes hand with each other. How many handshakes have occured?\n"
   ]
  },
  {
   "cell_type": "code",
   "execution_count": 7,
   "id": "13f91b74",
   "metadata": {},
   "outputs": [
    {
     "name": "stdout",
     "output_type": "stream",
     "text": [
      "Between teams: 121\n"
     ]
    }
   ],
   "source": [
    "import math\n",
    "\n",
    "team_size = 11\n",
    "# Between teams: 11^2\n",
    "between = team_size ** 2\n",
    "\n",
    "\n",
    "print(f\"Between teams: {between}\")\n"
   ]
  },
  {
   "cell_type": "code",
   "execution_count": 8,
   "id": "df0511e3",
   "metadata": {},
   "outputs": [
    {
     "name": "stdout",
     "output_type": "stream",
     "text": [
      "Within team: 55\n"
     ]
    }
   ],
   "source": [
    "# Within winning team: C(11,2) \n",
    "within = math.comb(team_size, 2)\n",
    "\n",
    "print(f\"Within team: {within}\")\n"
   ]
  },
  {
   "cell_type": "code",
   "execution_count": 9,
   "id": "c84535be",
   "metadata": {},
   "outputs": [
    {
     "name": "stdout",
     "output_type": "stream",
     "text": [
      "Total: 176 handshakes\n"
     ]
    }
   ],
   "source": [
    "total = between + within\n",
    "print(f\"Total: {total} handshakes\")\n",
    "\n"
   ]
  },
  {
   "cell_type": "markdown",
   "id": "6eb8a5fa",
   "metadata": {},
   "source": [
    "# Harder Handshakes\n",
    "Mr. Smith and his wife invited four other couples for a dinner party. When everyone arrived, handshakes were exchanged with some of the others. Of course no one shook hands with their spouse and nobody shook hands with the same person twice.\n",
    "Mr. Smith asked everyone how many times they shook hands. He recieved a different answer from each person.\n",
    "How many times did Mr. Smith shake hands?"
   ]
  },
  {
   "cell_type": "code",
   "execution_count": 10,
   "id": "919a14b7",
   "metadata": {},
   "outputs": [
    {
     "name": "stdout",
     "output_type": "stream",
     "text": [
      "Possible counts: [0 1 2 3 4 5 6 7 8]\n"
     ]
    }
   ],
   "source": [
    "import numpy as np\n",
    "from collections import Counter\n",
    "\n",
    "# All possible handshake counts\n",
    "possible = np.arange(9)  # [0,1,2,3,4,5,6,7,8]\n",
    "print(f\"Possible counts: {possible}\")\n",
    "\n",
    "\n",
    "\n"
   ]
  },
  {
   "cell_type": "code",
   "execution_count": 11,
   "id": "ab26e0db",
   "metadata": {},
   "outputs": [
    {
     "name": "stdout",
     "output_type": "stream",
     "text": [
      "Spouse pairs:\n",
      "[[0 8]\n",
      " [1 7]\n",
      " [2 6]\n",
      " [3 5]]\n"
     ]
    }
   ],
   "source": [
    "# Create complement pairs using numpy operations\n",
    "pairs = np.column_stack([np.arange(4), 8 - np.arange(4)])\n",
    "print(f\"Spouse pairs:\\n{pairs}\")"
   ]
  },
  {
   "cell_type": "code",
   "execution_count": 12,
   "id": "450cac29",
   "metadata": {},
   "outputs": [
    {
     "name": "stdout",
     "output_type": "stream",
     "text": [
      "Used by others: [0, 1, 2, 3, 5, 6, 7, 8]\n",
      "Mr. Smith: 4 handshakes\n"
     ]
    }
   ],
   "source": [
    "used = set(pairs.flatten())\n",
    "all_numbers = set(possible)\n",
    "mr_smith = list(all_numbers - used)[0]\n",
    "\n",
    "print(f\"Used by others: {sorted(used)}\")\n",
    "print(f\"Mr. Smith: {mr_smith} handshakes\")"
   ]
  }
 ],
 "metadata": {
  "kernelspec": {
   "display_name": "base",
   "language": "python",
   "name": "python3"
  },
  "language_info": {
   "codemirror_mode": {
    "name": "ipython",
    "version": 3
   },
   "file_extension": ".py",
   "mimetype": "text/x-python",
   "name": "python",
   "nbconvert_exporter": "python",
   "pygments_lexer": "ipython3",
   "version": "3.12.7"
  }
 },
 "nbformat": 4,
 "nbformat_minor": 5
}
