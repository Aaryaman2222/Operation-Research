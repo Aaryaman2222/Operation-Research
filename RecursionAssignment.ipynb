{
 "cells": [
  {
   "cell_type": "markdown",
   "id": "8b184308",
   "metadata": {},
   "source": [
    "\n",
    "# Recursion Assignment\n",
    "\n",
    "Solve the recursion  \n",
    "\\[\n",
    "f(n) = 7f(n-1) - 10f(n-2), \\quad f(0) = 1, \\quad f(1) = 3\n",
    "\\]\n",
    "\n",
    "**Tasks**\n",
    "1. Using mathematical method taught in class to get analytic equation.  \n",
    "2. Using dynamic programming.  \n",
    "3. Using dynamic programming and memoization.  \n",
    "4. Compare the results of each function. Discuss advantages and disadvantages of each method, including time to compute the 1000th term.\n",
    "    "
   ]
  },
  {
   "cell_type": "markdown",
   "id": "3f2803b8",
   "metadata": {},
   "source": [
    "\n",
    "## 1. Analytic Solution\n",
    "\n",
    "The recurrence relation:\n",
    "\n",
    "\\[ f(n) = 7f(n-1) - 10f(n-2) \\]\n",
    "\n",
    "has characteristic equation:\n",
    "\n",
    "\\[ r^2 - 7r + 10 = 0 \\]\n",
    "\n",
    "Solve for roots:\n",
    "\n",
    "\\[ (r - 5)(r - 2) = 0 \\Rightarrow r_1 = 5, r_2 = 2 \\]\n",
    "\n",
    "So the general solution is:\n",
    "\n",
    "\\[ f(n) = A(5^n) + B(2^n) \\]\n",
    "\n",
    "Using initial conditions:\n",
    "\n",
    "\\[\n",
    "f(0) = 1 = A + B \\\\\n",
    "f(1) = 3 = 5A + 2B\n",
    "\\]\n",
    "\n",
    "Solve for A and B:\n",
    "\n",
    "\\[\n",
    "A = \\tfrac{1}{3}, \\quad B = \\tfrac{2}{3}\n",
    "\\]\n",
    "\n",
    "Thus:\n",
    "\n",
    "\\[ f(n) = \\tfrac{1}{3}5^n + \\tfrac{2}{3}2^n \\]\n",
    "    "
   ]
  },
  {
   "cell_type": "code",
   "execution_count": null,
   "id": "9511deba",
   "metadata": {},
   "outputs": [],
   "source": [
    "\n",
    "def f_analytic(n):\n",
    "    return (1/3)*(5**n) + (2/3)*(2**n)\n",
    "\n",
    "# Test\n",
    "for i in range(6):\n",
    "    print(f\"f_analytic({i}) = {f_analytic(i)}\")\n",
    "    "
   ]
  },
  {
   "cell_type": "markdown",
   "id": "f78c1aa0",
   "metadata": {},
   "source": [
    "\n",
    "## 2. Dynamic Programming (Bottom-Up Tabulation)\n",
    "This builds the sequence iteratively using an array.\n",
    "    "
   ]
  },
  {
   "cell_type": "code",
   "execution_count": null,
   "id": "4b2f5292",
   "metadata": {},
   "outputs": [],
   "source": [
    "\n",
    "def f_dp(n):\n",
    "    if n == 0: return 1\n",
    "    if n == 1: return 3\n",
    "    dp = [0]*(n+1)\n",
    "    dp[0], dp[1] = 1, 3\n",
    "    for i in range(2, n+1):\n",
    "        dp[i] = 7*dp[i-1] - 10*dp[i-2]\n",
    "    return dp[n]\n",
    "\n",
    "# Test\n",
    "for i in range(6):\n",
    "    print(f\"f_dp({i}) = {f_dp(i)}\")\n",
    "    "
   ]
  },
  {
   "cell_type": "markdown",
   "id": "02dfda23",
   "metadata": {},
   "source": [
    "\n",
    "## 3. Dynamic Programming with Memoization (Top-Down)\n",
    "This version uses recursion and caching via `functools.lru_cache`.\n",
    "    "
   ]
  },
  {
   "cell_type": "code",
   "execution_count": null,
   "id": "4a480137",
   "metadata": {},
   "outputs": [],
   "source": [
    "\n",
    "from functools import lru_cache\n",
    "\n",
    "@lru_cache(maxsize=None)\n",
    "def f_memo(n):\n",
    "    if n == 0: return 1\n",
    "    if n == 1: return 3\n",
    "    return 7*f_memo(n-1) - 10*f_memo(n-2)\n",
    "\n",
    "# Test\n",
    "for i in range(6):\n",
    "    print(f\"f_memo({i}) = {f_memo(i)}\")\n",
    "    "
   ]
  },
  {
   "cell_type": "markdown",
   "id": "3f3f7ee9",
   "metadata": {},
   "source": [
    "\n",
    "## 4. Comparison of Results and Performance\n",
    "    "
   ]
  },
  {
   "cell_type": "code",
   "execution_count": null,
   "id": "18901344",
   "metadata": {},
   "outputs": [],
   "source": [
    "\n",
    "import time\n",
    "\n",
    "n = 1000\n",
    "\n",
    "# Check consistency for small n\n",
    "for i in range(6):\n",
    "    print(i, f_analytic(i), f_dp(i), f_memo(i))\n",
    "\n",
    "# Timing\n",
    "start = time.perf_counter()\n",
    "analytic_val = f_analytic(n)\n",
    "t1 = time.perf_counter() - start\n",
    "\n",
    "start = time.perf_counter()\n",
    "dp_val = f_dp(n)\n",
    "t2 = time.perf_counter() - start\n",
    "\n",
    "start = time.perf_counter()\n",
    "memo_val = f_memo(n)\n",
    "t3 = time.perf_counter() - start\n",
    "\n",
    "print(\"\\n1000th term results:\")\n",
    "print(f\"Analytic: {analytic_val:.3e} (time: {t1:.6f}s)\")\n",
    "print(f\"DP:       {dp_val:.3e} (time: {t2:.6f}s)\")\n",
    "print(f\"Memo:     {memo_val:.3e} (time: {t3:.6f}s)\")\n",
    "    "
   ]
  },
  {
   "cell_type": "markdown",
   "id": "36d360d9",
   "metadata": {},
   "source": [
    "\n",
    "## 5. Discussion\n",
    "\n",
    "| Method | Description | Advantages | Disadvantages |\n",
    "|---------|--------------|-------------|----------------|\n",
    "| Analytic | Uses closed-form equation | Fastest, no iteration needed | Must derive formula manually |\n",
    "| Dynamic Programming | Builds sequence iteratively | Simple, avoids recursion | Requires storing all intermediate values |\n",
    "| Memoization | Recursive with caching | Elegant, automatic caching | Slightly slower, more stack overhead |\n",
    "\n",
    "For large `n` (e.g., 1000), the analytic method is most efficient.\n",
    "    "
   ]
  }
 ],
 "metadata": {},
 "nbformat": 4,
 "nbformat_minor": 5
}
